{
  "nbformat": 4,
  "nbformat_minor": 0,
  "metadata": {
    "colab": {
      "provenance": []
    },
    "kernelspec": {
      "name": "python3",
      "display_name": "Python 3"
    },
    "language_info": {
      "name": "python"
    }
  },
  "cells": [
    {
      "cell_type": "code",
      "execution_count": 1,
      "metadata": {
        "colab": {
          "base_uri": "https://localhost:8080/"
        },
        "id": "jVbdyaRqYye0",
        "outputId": "a261c9c8-6ed2-4cc4-f45d-59ee21571fbd"
      },
      "outputs": [
        {
          "output_type": "stream",
          "name": "stdout",
          "text": [
            "Collecting h2o\n",
            "  Downloading h2o-3.46.0.7-py2.py3-none-any.whl.metadata (2.1 kB)\n",
            "Requirement already satisfied: requests in /usr/local/lib/python3.12/dist-packages (from h2o) (2.32.4)\n",
            "Requirement already satisfied: tabulate in /usr/local/lib/python3.12/dist-packages (from h2o) (0.9.0)\n",
            "Requirement already satisfied: charset_normalizer<4,>=2 in /usr/local/lib/python3.12/dist-packages (from requests->h2o) (3.4.3)\n",
            "Requirement already satisfied: idna<4,>=2.5 in /usr/local/lib/python3.12/dist-packages (from requests->h2o) (3.10)\n",
            "Requirement already satisfied: urllib3<3,>=1.21.1 in /usr/local/lib/python3.12/dist-packages (from requests->h2o) (2.5.0)\n",
            "Requirement already satisfied: certifi>=2017.4.17 in /usr/local/lib/python3.12/dist-packages (from requests->h2o) (2025.8.3)\n",
            "Downloading h2o-3.46.0.7-py2.py3-none-any.whl (265.9 MB)\n",
            "\u001b[2K   \u001b[90m━━━━━━━━━━━━━━━━━━━━━━━━━━━━━━━━━━━━━━━━\u001b[0m \u001b[32m265.9/265.9 MB\u001b[0m \u001b[31m5.3 MB/s\u001b[0m eta \u001b[36m0:00:00\u001b[0m\n",
            "\u001b[?25hInstalling collected packages: h2o\n",
            "Successfully installed h2o-3.46.0.7\n"
          ]
        }
      ],
      "source": [
        "#code snippet 1\n",
        "#Installing h2o\n",
        "!pip install h2o"
      ]
    },
    {
      "cell_type": "code",
      "source": [
        "#code snippet 2\n",
        "#Importing h2o\n",
        "import h2o\n",
        "\n",
        "#initialize h2o\n",
        "h2o.init()"
      ],
      "metadata": {
        "colab": {
          "base_uri": "https://localhost:8080/",
          "height": 585
        },
        "id": "jiU24PCHY-HG",
        "outputId": "d1c777f9-b4e3-4e54-bde5-5431ecb3315a"
      },
      "execution_count": 2,
      "outputs": [
        {
          "output_type": "stream",
          "name": "stdout",
          "text": [
            "Checking whether there is an H2O instance running at http://localhost:54321..... not found.\n",
            "Attempting to start a local H2O server...\n",
            "  Java Version: openjdk version \"11.0.28\" 2025-07-15; OpenJDK Runtime Environment (build 11.0.28+6-post-Ubuntu-1ubuntu122.04.1); OpenJDK 64-Bit Server VM (build 11.0.28+6-post-Ubuntu-1ubuntu122.04.1, mixed mode, sharing)\n",
            "  Starting server from /usr/local/lib/python3.12/dist-packages/h2o/backend/bin/h2o.jar\n",
            "  Ice root: /tmp/tmpropm7qbe\n",
            "  JVM stdout: /tmp/tmpropm7qbe/h2o_unknownUser_started_from_python.out\n",
            "  JVM stderr: /tmp/tmpropm7qbe/h2o_unknownUser_started_from_python.err\n",
            "  Server is running at http://127.0.0.1:54321\n",
            "Connecting to H2O server at http://127.0.0.1:54321 ... successful.\n",
            "Warning: Your H2O cluster version is (5 months and 26 days) old.  There may be a newer version available.\n",
            "Please download and install the latest version from: https://h2o-release.s3.amazonaws.com/h2o/latest_stable.html\n"
          ]
        },
        {
          "output_type": "display_data",
          "data": {
            "text/plain": [
              "--------------------------  -----------------------------------------------------------------------------------------\n",
              "H2O_cluster_uptime:         07 secs\n",
              "H2O_cluster_timezone:       Etc/UTC\n",
              "H2O_data_parsing_timezone:  UTC\n",
              "H2O_cluster_version:        3.46.0.7\n",
              "H2O_cluster_version_age:    5 months and 26 days\n",
              "H2O_cluster_name:           H2O_from_python_unknownUser_f99hn0\n",
              "H2O_cluster_total_nodes:    1\n",
              "H2O_cluster_free_memory:    3.168 Gb\n",
              "H2O_cluster_total_cores:    2\n",
              "H2O_cluster_allowed_cores:  2\n",
              "H2O_cluster_status:         locked, healthy\n",
              "H2O_connection_url:         http://127.0.0.1:54321\n",
              "H2O_connection_proxy:       {\"http\": null, \"https\": null, \"colab_language_server\": \"/usr/colab/bin/language_service\"}\n",
              "H2O_internal_security:      False\n",
              "Python_version:             3.12.11 final\n",
              "--------------------------  -----------------------------------------------------------------------------------------"
            ],
            "text/html": [
              "\n",
              "<style>\n",
              "\n",
              "#h2o-table-1.h2o-container {\n",
              "  overflow-x: auto;\n",
              "}\n",
              "#h2o-table-1 .h2o-table {\n",
              "  /* width: 100%; */\n",
              "  margin-top: 1em;\n",
              "  margin-bottom: 1em;\n",
              "}\n",
              "#h2o-table-1 .h2o-table caption {\n",
              "  white-space: nowrap;\n",
              "  caption-side: top;\n",
              "  text-align: left;\n",
              "  /* margin-left: 1em; */\n",
              "  margin: 0;\n",
              "  font-size: larger;\n",
              "}\n",
              "#h2o-table-1 .h2o-table thead {\n",
              "  white-space: nowrap; \n",
              "  position: sticky;\n",
              "  top: 0;\n",
              "  box-shadow: 0 -1px inset;\n",
              "}\n",
              "#h2o-table-1 .h2o-table tbody {\n",
              "  overflow: auto;\n",
              "}\n",
              "#h2o-table-1 .h2o-table th,\n",
              "#h2o-table-1 .h2o-table td {\n",
              "  text-align: right;\n",
              "  /* border: 1px solid; */\n",
              "}\n",
              "#h2o-table-1 .h2o-table tr:nth-child(even) {\n",
              "  /* background: #F5F5F5 */\n",
              "}\n",
              "\n",
              "</style>      \n",
              "<div id=\"h2o-table-1\" class=\"h2o-container\">\n",
              "  <table class=\"h2o-table\">\n",
              "    <caption></caption>\n",
              "    <thead></thead>\n",
              "    <tbody><tr><td>H2O_cluster_uptime:</td>\n",
              "<td>07 secs</td></tr>\n",
              "<tr><td>H2O_cluster_timezone:</td>\n",
              "<td>Etc/UTC</td></tr>\n",
              "<tr><td>H2O_data_parsing_timezone:</td>\n",
              "<td>UTC</td></tr>\n",
              "<tr><td>H2O_cluster_version:</td>\n",
              "<td>3.46.0.7</td></tr>\n",
              "<tr><td>H2O_cluster_version_age:</td>\n",
              "<td>5 months and 26 days</td></tr>\n",
              "<tr><td>H2O_cluster_name:</td>\n",
              "<td>H2O_from_python_unknownUser_f99hn0</td></tr>\n",
              "<tr><td>H2O_cluster_total_nodes:</td>\n",
              "<td>1</td></tr>\n",
              "<tr><td>H2O_cluster_free_memory:</td>\n",
              "<td>3.168 Gb</td></tr>\n",
              "<tr><td>H2O_cluster_total_cores:</td>\n",
              "<td>2</td></tr>\n",
              "<tr><td>H2O_cluster_allowed_cores:</td>\n",
              "<td>2</td></tr>\n",
              "<tr><td>H2O_cluster_status:</td>\n",
              "<td>locked, healthy</td></tr>\n",
              "<tr><td>H2O_connection_url:</td>\n",
              "<td>http://127.0.0.1:54321</td></tr>\n",
              "<tr><td>H2O_connection_proxy:</td>\n",
              "<td>{\"http\": null, \"https\": null, \"colab_language_server\": \"/usr/colab/bin/language_service\"}</td></tr>\n",
              "<tr><td>H2O_internal_security:</td>\n",
              "<td>False</td></tr>\n",
              "<tr><td>Python_version:</td>\n",
              "<td>3.12.11 final</td></tr></tbody>\n",
              "  </table>\n",
              "</div>\n"
            ]
          },
          "metadata": {}
        }
      ]
    },
    {
      "cell_type": "code",
      "source": [
        "# Code snippet 3\n",
        "# Importing dataset\n",
        "data = h2o.import_file('https://raw.githubusercontent.com/Imjuandiaz/Customer_data_Ebook/refs/heads/main/Customer%20Data%20Apr%202024%20-%20Customer%20Data.csv')\n",
        "\n",
        "\n",
        "data\n"
      ],
      "metadata": {
        "colab": {
          "base_uri": "https://localhost:8080/",
          "height": 826
        },
        "id": "xXqgpCK5Y_NK",
        "outputId": "c480e763-202d-4d33-cd44-6e1bba786cb3"
      },
      "execution_count": 3,
      "outputs": [
        {
          "output_type": "stream",
          "name": "stdout",
          "text": [
            "Parse progress: |████████████████████████████████████████████████████████████████| (done) 100%\n"
          ]
        },
        {
          "output_type": "execute_result",
          "data": {
            "text/plain": [
              "  Customer ID  Title    First Name    Middle Name    Last Name    Suffix    Street Address1      Street Address2    City-ZipCode-State            Birth Date           Education Level    Occupation    Gender    Marital Status      Home Owner Status    Number of Cars Owned    Number of Children At Home    Total Number of Children    Annual Income    Avg Monthly Spend    eBook Subscriber Flag\n",
              "-------------  -------  ------------  -------------  -----------  --------  -------------------  -----------------  ----------------------------  -------------------  -----------------  ------------  --------  ----------------  -------------------  ----------------------  ----------------------------  --------------------------  ---------------  -------------------  -----------------------\n",
              "        11000           Jon           V              Yang                   3761 N. 14th St                         Cleveland-44101-Ohio          2066-04-08 00:00:00  Bachelors          Professional  M         M                                   1                       0                             0                           2           137947                   89                        0\n",
              "        11001           Eugene        L              Huang                  2243 W St.                              Seattle-98101-Washington      2065-05-14 00:00:00  Bachelors          Professional  M         S                                   0                       1                             3                           3           101141                  117                        1\n",
              "        11002           Ruben                        Torres                 5844 Linden Land                        Omaha-68101-Nebraska          2065-08-12 00:00:00  Bachelors          Professional  M         M                                   1                       1                             3                           3            91945                  123                        0\n",
              "        11003           Christy                      Zhu                    1825 Village Pl.                        Fort Worth-76101-Texas        2068-02-15 00:00:00  Bachelors          Professional  F         S                                   0                       1                             0                           0            86688                   50                        0\n",
              "        11004           Elizabeth                    Johnson                7553 Harness Circle                     Oakland-94601-California      2068-08-08 00:00:00  Bachelors          Professional  F         S                                   1                       4                             5                           5            92771                   95                        1\n",
              "        11005           Julio                        Ruiz                   7305 Humphrey Drive                     Corpus Christi-78401-Texas    2065-08-05 00:00:00  Bachelors          Professional  M         S                                   1                       1                             0                           0           103199                   78                        1\n",
              "        11006           Janet         G              Alvarez                2612 Berry Dr                           Chula Vista-91910-California  2065-12-06 00:00:00  Bachelors          Professional  F         S                                   1                       1                             0                           0            84756                   54                        1\n",
              "        11007           Marco                        Mehta                  942 Brook Street                        Anaheim-92801-California      2064-05-09 00:00:00  Bachelors          Professional  M         M                                   1                       2                             3                           3           109759                  130                        1\n",
              "        11008           Rob                          Verhoff                624 Peabody Road                        Sacramento-94203-California   2064-07-07 00:00:00  Bachelors          Professional  F         S                                   1                       3                             4                           4            88005                   85                        1\n",
              "        11009           Shannon       C              Carlson                3839 Northgate Road                     Chula Vista-91910-California  2064-04-01 00:00:00  Bachelors          Professional  M         S                                   0                       1                             0                           0           106399                   74                        0\n",
              "[16519 rows x 21 columns]\n"
            ],
            "text/html": [
              "<table class='dataframe'>\n",
              "<thead>\n",
              "<tr><th style=\"text-align: right;\">  Customer ID</th><th>Title  </th><th>First Name  </th><th>Middle Name  </th><th>Last Name  </th><th>Suffix  </th><th>Street Address1    </th><th>Street Address2  </th><th>City-ZipCode-State          </th><th>Birth Date         </th><th>Education Level  </th><th>Occupation  </th><th>Gender  </th><th>Marital Status  </th><th style=\"text-align: right;\">  Home Owner Status</th><th style=\"text-align: right;\">  Number of Cars Owned</th><th style=\"text-align: right;\">  Number of Children At Home</th><th style=\"text-align: right;\">  Total Number of Children</th><th style=\"text-align: right;\">  Annual Income</th><th style=\"text-align: right;\">  Avg Monthly Spend</th><th style=\"text-align: right;\">  eBook Subscriber Flag</th></tr>\n",
              "</thead>\n",
              "<tbody>\n",
              "<tr><td style=\"text-align: right;\">        11000</td><td>       </td><td>Jon         </td><td>V            </td><td>Yang       </td><td>        </td><td>3761 N. 14th St    </td><td>                 </td><td>Cleveland-44101-Ohio        </td><td>2066-04-08 00:00:00</td><td>Bachelors        </td><td>Professional</td><td>M       </td><td>M               </td><td style=\"text-align: right;\">                  1</td><td style=\"text-align: right;\">                     0</td><td style=\"text-align: right;\">                           0</td><td style=\"text-align: right;\">                         2</td><td style=\"text-align: right;\">         137947</td><td style=\"text-align: right;\">                 89</td><td style=\"text-align: right;\">                      0</td></tr>\n",
              "<tr><td style=\"text-align: right;\">        11001</td><td>       </td><td>Eugene      </td><td>L            </td><td>Huang      </td><td>        </td><td>2243 W St.         </td><td>                 </td><td>Seattle-98101-Washington    </td><td>2065-05-14 00:00:00</td><td>Bachelors        </td><td>Professional</td><td>M       </td><td>S               </td><td style=\"text-align: right;\">                  0</td><td style=\"text-align: right;\">                     1</td><td style=\"text-align: right;\">                           3</td><td style=\"text-align: right;\">                         3</td><td style=\"text-align: right;\">         101141</td><td style=\"text-align: right;\">                117</td><td style=\"text-align: right;\">                      1</td></tr>\n",
              "<tr><td style=\"text-align: right;\">        11002</td><td>       </td><td>Ruben       </td><td>             </td><td>Torres     </td><td>        </td><td>5844 Linden Land   </td><td>                 </td><td>Omaha-68101-Nebraska        </td><td>2065-08-12 00:00:00</td><td>Bachelors        </td><td>Professional</td><td>M       </td><td>M               </td><td style=\"text-align: right;\">                  1</td><td style=\"text-align: right;\">                     1</td><td style=\"text-align: right;\">                           3</td><td style=\"text-align: right;\">                         3</td><td style=\"text-align: right;\">          91945</td><td style=\"text-align: right;\">                123</td><td style=\"text-align: right;\">                      0</td></tr>\n",
              "<tr><td style=\"text-align: right;\">        11003</td><td>       </td><td>Christy     </td><td>             </td><td>Zhu        </td><td>        </td><td>1825 Village Pl.   </td><td>                 </td><td>Fort Worth-76101-Texas      </td><td>2068-02-15 00:00:00</td><td>Bachelors        </td><td>Professional</td><td>F       </td><td>S               </td><td style=\"text-align: right;\">                  0</td><td style=\"text-align: right;\">                     1</td><td style=\"text-align: right;\">                           0</td><td style=\"text-align: right;\">                         0</td><td style=\"text-align: right;\">          86688</td><td style=\"text-align: right;\">                 50</td><td style=\"text-align: right;\">                      0</td></tr>\n",
              "<tr><td style=\"text-align: right;\">        11004</td><td>       </td><td>Elizabeth   </td><td>             </td><td>Johnson    </td><td>        </td><td>7553 Harness Circle</td><td>                 </td><td>Oakland-94601-California    </td><td>2068-08-08 00:00:00</td><td>Bachelors        </td><td>Professional</td><td>F       </td><td>S               </td><td style=\"text-align: right;\">                  1</td><td style=\"text-align: right;\">                     4</td><td style=\"text-align: right;\">                           5</td><td style=\"text-align: right;\">                         5</td><td style=\"text-align: right;\">          92771</td><td style=\"text-align: right;\">                 95</td><td style=\"text-align: right;\">                      1</td></tr>\n",
              "<tr><td style=\"text-align: right;\">        11005</td><td>       </td><td>Julio       </td><td>             </td><td>Ruiz       </td><td>        </td><td>7305 Humphrey Drive</td><td>                 </td><td>Corpus Christi-78401-Texas  </td><td>2065-08-05 00:00:00</td><td>Bachelors        </td><td>Professional</td><td>M       </td><td>S               </td><td style=\"text-align: right;\">                  1</td><td style=\"text-align: right;\">                     1</td><td style=\"text-align: right;\">                           0</td><td style=\"text-align: right;\">                         0</td><td style=\"text-align: right;\">         103199</td><td style=\"text-align: right;\">                 78</td><td style=\"text-align: right;\">                      1</td></tr>\n",
              "<tr><td style=\"text-align: right;\">        11006</td><td>       </td><td>Janet       </td><td>G            </td><td>Alvarez    </td><td>        </td><td>2612 Berry Dr      </td><td>                 </td><td>Chula Vista-91910-California</td><td>2065-12-06 00:00:00</td><td>Bachelors        </td><td>Professional</td><td>F       </td><td>S               </td><td style=\"text-align: right;\">                  1</td><td style=\"text-align: right;\">                     1</td><td style=\"text-align: right;\">                           0</td><td style=\"text-align: right;\">                         0</td><td style=\"text-align: right;\">          84756</td><td style=\"text-align: right;\">                 54</td><td style=\"text-align: right;\">                      1</td></tr>\n",
              "<tr><td style=\"text-align: right;\">        11007</td><td>       </td><td>Marco       </td><td>             </td><td>Mehta      </td><td>        </td><td>942 Brook Street   </td><td>                 </td><td>Anaheim-92801-California    </td><td>2064-05-09 00:00:00</td><td>Bachelors        </td><td>Professional</td><td>M       </td><td>M               </td><td style=\"text-align: right;\">                  1</td><td style=\"text-align: right;\">                     2</td><td style=\"text-align: right;\">                           3</td><td style=\"text-align: right;\">                         3</td><td style=\"text-align: right;\">         109759</td><td style=\"text-align: right;\">                130</td><td style=\"text-align: right;\">                      1</td></tr>\n",
              "<tr><td style=\"text-align: right;\">        11008</td><td>       </td><td>Rob         </td><td>             </td><td>Verhoff    </td><td>        </td><td>624 Peabody Road   </td><td>                 </td><td>Sacramento-94203-California </td><td>2064-07-07 00:00:00</td><td>Bachelors        </td><td>Professional</td><td>F       </td><td>S               </td><td style=\"text-align: right;\">                  1</td><td style=\"text-align: right;\">                     3</td><td style=\"text-align: right;\">                           4</td><td style=\"text-align: right;\">                         4</td><td style=\"text-align: right;\">          88005</td><td style=\"text-align: right;\">                 85</td><td style=\"text-align: right;\">                      1</td></tr>\n",
              "<tr><td style=\"text-align: right;\">        11009</td><td>       </td><td>Shannon     </td><td>C            </td><td>Carlson    </td><td>        </td><td>3839 Northgate Road</td><td>                 </td><td>Chula Vista-91910-California</td><td>2064-04-01 00:00:00</td><td>Bachelors        </td><td>Professional</td><td>M       </td><td>S               </td><td style=\"text-align: right;\">                  0</td><td style=\"text-align: right;\">                     1</td><td style=\"text-align: right;\">                           0</td><td style=\"text-align: right;\">                         0</td><td style=\"text-align: right;\">         106399</td><td style=\"text-align: right;\">                 74</td><td style=\"text-align: right;\">                      0</td></tr>\n",
              "</tbody>\n",
              "</table><pre style='font-size: smaller; margin-bottom: 1em;'>[16519 rows x 21 columns]</pre>"
            ]
          },
          "metadata": {},
          "execution_count": 3
        }
      ]
    },
    {
      "cell_type": "code",
      "source": [
        "#code snippet 4\n",
        "#Importing Kmeans Estimator\n",
        "from h2o.estimators.kmeans import H2OKMeansEstimator"
      ],
      "metadata": {
        "id": "oJAJYJ8tZAfy"
      },
      "execution_count": 4,
      "outputs": []
    },
    {
      "cell_type": "code",
      "source": [
        "#code snippet 5\n",
        "#setting the number of clusters in the data train as 4\n",
        "kmeans_model = H2OKMeansEstimator(k=3)\n",
        "\n",
        "#Train the clustering model\n",
        "kmeans_model.train(training_frame=data)"
      ],
      "metadata": {
        "colab": {
          "base_uri": "https://localhost:8080/",
          "height": 954
        },
        "id": "7krzmOgkZDOg",
        "outputId": "6fa51276-7901-4b9b-d49e-233e72d8ffbc"
      },
      "execution_count": 5,
      "outputs": [
        {
          "output_type": "stream",
          "name": "stdout",
          "text": [
            "kmeans Model Build progress: |"
          ]
        },
        {
          "output_type": "stream",
          "name": "stderr",
          "text": [
            "/usr/local/lib/python3.12/dist-packages/h2o/estimators/estimator_base.py:192: RuntimeWarning: Dropping bad and constant columns: [Suffix]\n",
            "  warnings.warn(mesg[\"message\"], RuntimeWarning)\n"
          ]
        },
        {
          "output_type": "stream",
          "name": "stdout",
          "text": [
            "███████████████████████████████████████████████████| (done) 100%\n"
          ]
        },
        {
          "output_type": "execute_result",
          "data": {
            "text/plain": [
              "Model Details\n",
              "=============\n",
              "H2OKMeansEstimator : K-means\n",
              "Model Key: KMeans_model_python_1758571895578_1\n",
              "\n",
              "\n",
              "Model Summary: \n",
              "    number_of_rows    number_of_clusters    number_of_categorical_columns    number_of_iterations    within_cluster_sum_of_squares    total_sum_of_squares    between_cluster_sum_of_squares\n",
              "--  ----------------  --------------------  -------------------------------  ----------------------  -------------------------------  ----------------------  --------------------------------\n",
              "    16519             3                     11                               10                      207928                           261931                  54003.5\n",
              "\n",
              "ModelMetricsClustering: kmeans\n",
              "** Reported on train data. **\n",
              "\n",
              "Total Within Cluster Sum of Square Error: 207872.19996066572\n",
              "Total Sum of Square Error to Grand Mean: 261931.0009489411\n",
              "Between Cluster Sum of Square Error: 54058.80098827538\n",
              "\n",
              "Centroid Statistics: \n",
              "    centroid    size    within_cluster_sum_of_squares\n",
              "--  ----------  ------  -------------------------------\n",
              "    1           6891    82597.6\n",
              "    2           2888    37964.1\n",
              "    3           6740    87310.4\n",
              "\n",
              "Scoring History: \n",
              "    timestamp            duration    iterations    number_of_reassigned_observations    within_cluster_sum_of_squares\n",
              "--  -------------------  ----------  ------------  -----------------------------------  -------------------------------\n",
              "    2025-09-22 20:12:01  0.227 sec   0             nan                                  nan\n",
              "    2025-09-22 20:12:03  1.582 sec   1             16519                                294850\n",
              "    2025-09-22 20:12:03  1.902 sec   2             2146                                 213050\n",
              "    2025-09-22 20:12:03  2.092 sec   3             1296                                 210276\n",
              "    2025-09-22 20:12:03  2.428 sec   4             808                                  209155\n",
              "    2025-09-22 20:12:04  2.620 sec   5             577                                  208634\n",
              "    2025-09-22 20:12:04  2.787 sec   6             455                                  208364\n",
              "    2025-09-22 20:12:04  2.943 sec   7             362                                  208198\n",
              "    2025-09-22 20:12:04  3.081 sec   8             314                                  208087\n",
              "    2025-09-22 20:12:04  3.227 sec   9             279                                  207998\n",
              "    2025-09-22 20:12:04  3.434 sec   10            261                                  207928\n",
              "\n",
              "[tips]\n",
              "Use `model.explain()` to inspect the model.\n",
              "--\n",
              "Use `h2o.display.toggle_user_tips()` to switch on/off this section."
            ],
            "text/html": [
              "<pre style='margin: 1em 0 1em 0;'>Model Details\n",
              "=============\n",
              "H2OKMeansEstimator : K-means\n",
              "Model Key: KMeans_model_python_1758571895578_1\n",
              "</pre>\n",
              "<div style='margin: 1em 0 1em 0;'>\n",
              "<style>\n",
              "\n",
              "#h2o-table-2.h2o-container {\n",
              "  overflow-x: auto;\n",
              "}\n",
              "#h2o-table-2 .h2o-table {\n",
              "  /* width: 100%; */\n",
              "  margin-top: 1em;\n",
              "  margin-bottom: 1em;\n",
              "}\n",
              "#h2o-table-2 .h2o-table caption {\n",
              "  white-space: nowrap;\n",
              "  caption-side: top;\n",
              "  text-align: left;\n",
              "  /* margin-left: 1em; */\n",
              "  margin: 0;\n",
              "  font-size: larger;\n",
              "}\n",
              "#h2o-table-2 .h2o-table thead {\n",
              "  white-space: nowrap; \n",
              "  position: sticky;\n",
              "  top: 0;\n",
              "  box-shadow: 0 -1px inset;\n",
              "}\n",
              "#h2o-table-2 .h2o-table tbody {\n",
              "  overflow: auto;\n",
              "}\n",
              "#h2o-table-2 .h2o-table th,\n",
              "#h2o-table-2 .h2o-table td {\n",
              "  text-align: right;\n",
              "  /* border: 1px solid; */\n",
              "}\n",
              "#h2o-table-2 .h2o-table tr:nth-child(even) {\n",
              "  /* background: #F5F5F5 */\n",
              "}\n",
              "\n",
              "</style>      \n",
              "<div id=\"h2o-table-2\" class=\"h2o-container\">\n",
              "  <table class=\"h2o-table\">\n",
              "    <caption>Model Summary: </caption>\n",
              "    <thead><tr><th></th>\n",
              "<th>number_of_rows</th>\n",
              "<th>number_of_clusters</th>\n",
              "<th>number_of_categorical_columns</th>\n",
              "<th>number_of_iterations</th>\n",
              "<th>within_cluster_sum_of_squares</th>\n",
              "<th>total_sum_of_squares</th>\n",
              "<th>between_cluster_sum_of_squares</th></tr></thead>\n",
              "    <tbody><tr><td></td>\n",
              "<td>16519.0</td>\n",
              "<td>3.0</td>\n",
              "<td>11.0</td>\n",
              "<td>10.0</td>\n",
              "<td>207927.5490731</td>\n",
              "<td>261931.0000000</td>\n",
              "<td>54003.4509269</td></tr></tbody>\n",
              "  </table>\n",
              "</div>\n",
              "</div>\n",
              "<div style='margin: 1em 0 1em 0;'><pre style='margin: 1em 0 1em 0;'>ModelMetricsClustering: kmeans\n",
              "** Reported on train data. **\n",
              "\n",
              "Total Within Cluster Sum of Square Error: 207872.19996066572\n",
              "Total Sum of Square Error to Grand Mean: 261931.0009489411\n",
              "Between Cluster Sum of Square Error: 54058.80098827538</pre>\n",
              "<div style='margin: 1em 0 1em 0;'>\n",
              "<style>\n",
              "\n",
              "#h2o-table-3.h2o-container {\n",
              "  overflow-x: auto;\n",
              "}\n",
              "#h2o-table-3 .h2o-table {\n",
              "  /* width: 100%; */\n",
              "  margin-top: 1em;\n",
              "  margin-bottom: 1em;\n",
              "}\n",
              "#h2o-table-3 .h2o-table caption {\n",
              "  white-space: nowrap;\n",
              "  caption-side: top;\n",
              "  text-align: left;\n",
              "  /* margin-left: 1em; */\n",
              "  margin: 0;\n",
              "  font-size: larger;\n",
              "}\n",
              "#h2o-table-3 .h2o-table thead {\n",
              "  white-space: nowrap; \n",
              "  position: sticky;\n",
              "  top: 0;\n",
              "  box-shadow: 0 -1px inset;\n",
              "}\n",
              "#h2o-table-3 .h2o-table tbody {\n",
              "  overflow: auto;\n",
              "}\n",
              "#h2o-table-3 .h2o-table th,\n",
              "#h2o-table-3 .h2o-table td {\n",
              "  text-align: right;\n",
              "  /* border: 1px solid; */\n",
              "}\n",
              "#h2o-table-3 .h2o-table tr:nth-child(even) {\n",
              "  /* background: #F5F5F5 */\n",
              "}\n",
              "\n",
              "</style>      \n",
              "<div id=\"h2o-table-3\" class=\"h2o-container\">\n",
              "  <table class=\"h2o-table\">\n",
              "    <caption>Centroid Statistics: </caption>\n",
              "    <thead><tr><th></th>\n",
              "<th>centroid</th>\n",
              "<th>size</th>\n",
              "<th>within_cluster_sum_of_squares</th></tr></thead>\n",
              "    <tbody><tr><td></td>\n",
              "<td>1.0</td>\n",
              "<td>6891.0</td>\n",
              "<td>82597.6409203</td></tr>\n",
              "<tr><td></td>\n",
              "<td>2.0</td>\n",
              "<td>2888.0</td>\n",
              "<td>37964.1318060</td></tr>\n",
              "<tr><td></td>\n",
              "<td>3.0</td>\n",
              "<td>6740.0</td>\n",
              "<td>87310.4272344</td></tr></tbody>\n",
              "  </table>\n",
              "</div>\n",
              "</div></div>\n",
              "<div style='margin: 1em 0 1em 0;'>\n",
              "<style>\n",
              "\n",
              "#h2o-table-4.h2o-container {\n",
              "  overflow-x: auto;\n",
              "}\n",
              "#h2o-table-4 .h2o-table {\n",
              "  /* width: 100%; */\n",
              "  margin-top: 1em;\n",
              "  margin-bottom: 1em;\n",
              "}\n",
              "#h2o-table-4 .h2o-table caption {\n",
              "  white-space: nowrap;\n",
              "  caption-side: top;\n",
              "  text-align: left;\n",
              "  /* margin-left: 1em; */\n",
              "  margin: 0;\n",
              "  font-size: larger;\n",
              "}\n",
              "#h2o-table-4 .h2o-table thead {\n",
              "  white-space: nowrap; \n",
              "  position: sticky;\n",
              "  top: 0;\n",
              "  box-shadow: 0 -1px inset;\n",
              "}\n",
              "#h2o-table-4 .h2o-table tbody {\n",
              "  overflow: auto;\n",
              "}\n",
              "#h2o-table-4 .h2o-table th,\n",
              "#h2o-table-4 .h2o-table td {\n",
              "  text-align: right;\n",
              "  /* border: 1px solid; */\n",
              "}\n",
              "#h2o-table-4 .h2o-table tr:nth-child(even) {\n",
              "  /* background: #F5F5F5 */\n",
              "}\n",
              "\n",
              "</style>      \n",
              "<div id=\"h2o-table-4\" class=\"h2o-container\">\n",
              "  <table class=\"h2o-table\">\n",
              "    <caption>Scoring History: </caption>\n",
              "    <thead><tr><th></th>\n",
              "<th>timestamp</th>\n",
              "<th>duration</th>\n",
              "<th>iterations</th>\n",
              "<th>number_of_reassigned_observations</th>\n",
              "<th>within_cluster_sum_of_squares</th></tr></thead>\n",
              "    <tbody><tr><td></td>\n",
              "<td>2025-09-22 20:12:01</td>\n",
              "<td> 0.227 sec</td>\n",
              "<td>0.0</td>\n",
              "<td>nan</td>\n",
              "<td>nan</td></tr>\n",
              "<tr><td></td>\n",
              "<td>2025-09-22 20:12:03</td>\n",
              "<td> 1.582 sec</td>\n",
              "<td>1.0</td>\n",
              "<td>16519.0</td>\n",
              "<td>294849.6262892</td></tr>\n",
              "<tr><td></td>\n",
              "<td>2025-09-22 20:12:03</td>\n",
              "<td> 1.902 sec</td>\n",
              "<td>2.0</td>\n",
              "<td>2146.0</td>\n",
              "<td>213050.4662909</td></tr>\n",
              "<tr><td></td>\n",
              "<td>2025-09-22 20:12:03</td>\n",
              "<td> 2.092 sec</td>\n",
              "<td>3.0</td>\n",
              "<td>1296.0</td>\n",
              "<td>210275.7814029</td></tr>\n",
              "<tr><td></td>\n",
              "<td>2025-09-22 20:12:03</td>\n",
              "<td> 2.428 sec</td>\n",
              "<td>4.0</td>\n",
              "<td>808.0</td>\n",
              "<td>209155.4540371</td></tr>\n",
              "<tr><td></td>\n",
              "<td>2025-09-22 20:12:04</td>\n",
              "<td> 2.620 sec</td>\n",
              "<td>5.0</td>\n",
              "<td>577.0</td>\n",
              "<td>208634.3180799</td></tr>\n",
              "<tr><td></td>\n",
              "<td>2025-09-22 20:12:04</td>\n",
              "<td> 2.787 sec</td>\n",
              "<td>6.0</td>\n",
              "<td>455.0</td>\n",
              "<td>208363.8142281</td></tr>\n",
              "<tr><td></td>\n",
              "<td>2025-09-22 20:12:04</td>\n",
              "<td> 2.943 sec</td>\n",
              "<td>7.0</td>\n",
              "<td>362.0</td>\n",
              "<td>208198.0447728</td></tr>\n",
              "<tr><td></td>\n",
              "<td>2025-09-22 20:12:04</td>\n",
              "<td> 3.081 sec</td>\n",
              "<td>8.0</td>\n",
              "<td>314.0</td>\n",
              "<td>208087.2692110</td></tr>\n",
              "<tr><td></td>\n",
              "<td>2025-09-22 20:12:04</td>\n",
              "<td> 3.227 sec</td>\n",
              "<td>9.0</td>\n",
              "<td>279.0</td>\n",
              "<td>207997.6395092</td></tr>\n",
              "<tr><td></td>\n",
              "<td>2025-09-22 20:12:04</td>\n",
              "<td> 3.434 sec</td>\n",
              "<td>10.0</td>\n",
              "<td>261.0</td>\n",
              "<td>207927.5490731</td></tr></tbody>\n",
              "  </table>\n",
              "</div>\n",
              "</div><pre style=\"font-size: smaller; margin: 1em 0 0 0;\">\n",
              "\n",
              "[tips]\n",
              "Use `model.explain()` to inspect the model.\n",
              "--\n",
              "Use `h2o.display.toggle_user_tips()` to switch on/off this section.</pre>"
            ]
          },
          "metadata": {},
          "execution_count": 5
        }
      ]
    },
    {
      "cell_type": "code",
      "source": [
        "#code snippet 6\n",
        "#Displaying the cluster size\n",
        "kmeans_model.size()"
      ],
      "metadata": {
        "colab": {
          "base_uri": "https://localhost:8080/"
        },
        "id": "FiWkJHTXZEs5",
        "outputId": "806a3b0e-7424-400f-d83a-822f47cb1c05"
      },
      "execution_count": 6,
      "outputs": [
        {
          "output_type": "execute_result",
          "data": {
            "text/plain": [
              "[6891.0, 2888.0, 6740.0]"
            ]
          },
          "metadata": {},
          "execution_count": 6
        }
      ]
    },
    {
      "cell_type": "code",
      "source": [
        "import pandas as pd\n",
        "data.dtypes"
      ],
      "metadata": {
        "colab": {
          "base_uri": "https://localhost:8080/",
          "height": 165
        },
        "id": "pZ5Sp8T5C_mn",
        "outputId": "2bc4d7df-9a00-4dc8-9873-09cbfa07e120"
      },
      "execution_count": 9,
      "outputs": [
        {
          "output_type": "error",
          "ename": "AttributeError",
          "evalue": "'H2OFrame' object has no attribute 'dtypes'",
          "traceback": [
            "\u001b[0;31m---------------------------------------------------------------------------\u001b[0m",
            "\u001b[0;31mAttributeError\u001b[0m                            Traceback (most recent call last)",
            "\u001b[0;32m/tmp/ipython-input-306879727.py\u001b[0m in \u001b[0;36m<cell line: 0>\u001b[0;34m()\u001b[0m\n\u001b[1;32m      1\u001b[0m \u001b[0;32mimport\u001b[0m \u001b[0mpandas\u001b[0m \u001b[0;32mas\u001b[0m \u001b[0mpd\u001b[0m\u001b[0;34m\u001b[0m\u001b[0;34m\u001b[0m\u001b[0m\n\u001b[0;32m----> 2\u001b[0;31m \u001b[0mdata\u001b[0m\u001b[0;34m.\u001b[0m\u001b[0mdtypes\u001b[0m\u001b[0;34m\u001b[0m\u001b[0;34m\u001b[0m\u001b[0m\n\u001b[0m",
            "\u001b[0;31mAttributeError\u001b[0m: 'H2OFrame' object has no attribute 'dtypes'"
          ]
        }
      ]
    },
    {
      "cell_type": "code",
      "source": [
        "# ============================================\n",
        "# Code Snippet 7 - Customer Dataset Clustering\n",
        "# ============================================\n",
        "\n",
        "# Import libraries\n",
        "import pandas as pd\n",
        "\n",
        "# Predict clusters for each row\n",
        "pred = kmeans_model.predict(data)\n",
        "\n",
        "# Join prediction to the original dataset\n",
        "data_with_clusters = data.cbind(pred)\n",
        "\n",
        "# Convert to pandas DataFrame\n",
        "df = data_with_clusters.as_data_frame()\n",
        "\n",
        "# ==========================\n",
        "# Numeric variables\n",
        "# ==========================\n",
        "numeric_cols = [\n",
        "    \"Birth Date\",\n",
        "    \"Home Owner Status\",\n",
        "    \"Number of Cars Owned\",\n",
        "    \"Number of Children At Home\",\n",
        "    \"Total Number of Children\",\n",
        "    \"Annual Income\",\n",
        "    \"Avg Monthly Spend\",\n",
        "    \"eBook Subscriber Flag\"\n",
        "]\n",
        "\n",
        "# Calculate the average of each numeric variable per cluster\n",
        "numeric_summary = df.groupby(\"predict\")[numeric_cols].mean()\n",
        "\n",
        "# ==========================\n",
        "# Categorical variables\n",
        "# ==========================\n",
        "categorical_cols = [\n",
        "    \"Education Level\",\n",
        "    \"Occupation\",\n",
        "    \"Gender\",\n",
        "    \"Marital Status\"\n",
        "]\n",
        "\n",
        "# Calculate the distribution (percentages) of categories per cluster\n",
        "categorical_summary = {}\n",
        "for col in categorical_cols:\n",
        "    categorical_summary[col] = (\n",
        "        df.groupby(\"predict\")[col]\n",
        "        .value_counts(normalize=True)\n",
        "        .unstack(fill_value=0)\n",
        "    )\n"
      ],
      "metadata": {
        "colab": {
          "base_uri": "https://localhost:8080/"
        },
        "id": "hrJCMpecaLEO",
        "outputId": "d240bc61-4ac9-4a05-ee69-76ea48bff470"
      },
      "execution_count": 14,
      "outputs": [
        {
          "output_type": "stream",
          "name": "stdout",
          "text": [
            "kmeans prediction progress: |████████████████████████████████████████████████████| (done) 100%\n"
          ]
        },
        {
          "output_type": "stream",
          "name": "stderr",
          "text": [
            "/usr/local/lib/python3.12/dist-packages/h2o/frame.py:1983: H2ODependencyWarning: Converting H2O frame to pandas dataframe using single-thread.  For faster conversion using multi-thread, install polars and pyarrow and use it as pandas_df = h2o_df.as_data_frame(use_multi_thread=True)\n",
            "\n",
            "  warnings.warn(\"Converting H2O frame to pandas dataframe using single-thread.  For faster conversion using\"\n"
          ]
        }
      ]
    },
    {
      "cell_type": "code",
      "source": [
        "# ==========================\n",
        "# Combine summaries\n",
        "# ==========================\n",
        "\n",
        "# Merge all categorical summary DataFrames into a single DataFrame\n",
        "categorical_df = pd.concat(categorical_summary.values(), axis=1)\n",
        "\n",
        "# Combine numeric and categorical summaries into a single profile per cluster\n",
        "cluster_profiles = numeric_summary.join(categorical_df, how=\"left\")\n",
        "\n",
        "# Export the final cluster profiles to a CSV file\n",
        "cluster_profiles.to_csv(\"cluster_profiles.csv\", index=True)\n",
        "\n",
        "# Display the result in the console\n",
        "print(cluster_profiles)\n"
      ],
      "metadata": {
        "colab": {
          "base_uri": "https://localhost:8080/"
        },
        "id": "tePviN_1aUBM",
        "outputId": "a4c35af5-f8b0-4fd0-f6f4-4fb786507f3a"
      },
      "execution_count": 16,
      "outputs": [
        {
          "output_type": "stream",
          "name": "stdout",
          "text": [
            "           Birth Date  Home Owner Status  Number of Cars Owned  \\\n",
            "predict                                                          \n",
            "0        1.181505e+12           0.630968              1.089827   \n",
            "1        2.382650e+12           0.778740              2.774584   \n",
            "2        2.500315e+12           0.672849              1.375668   \n",
            "\n",
            "         Number of Children At Home  Total Number of Children  Annual Income  \\\n",
            "predict                                                                        \n",
            "0                          0.247279                  0.888405   52039.928022   \n",
            "1                          3.701524                  4.075831  121308.058172   \n",
            "2                          0.592433                  2.262315   86285.007715   \n",
            "\n",
            "         Avg Monthly Spend  eBook Subscriber Flag  Bachelors  Graduate Degree  \\\n",
            "predict                                                                         \n",
            "0                56.001161               0.114207   0.181396         0.159483   \n",
            "1               115.659280               0.784972   0.358380         0.114266   \n",
            "2                70.644807               0.361276   0.371958         0.212760   \n",
            "\n",
            "         ...  Partial High School  Clerical  Management    Manual  \\\n",
            "predict  ...                                                        \n",
            "0        ...             0.111450  0.251923    0.028008  0.241765   \n",
            "1        ...             0.058172  0.024584    0.352493  0.013158   \n",
            "2        ...             0.070623  0.120475    0.225964  0.064392   \n",
            "\n",
            "         Professional  Skilled Manual         F         M         M         S  \n",
            "predict                                                                        \n",
            "0            0.118270        0.360035  0.632854  0.367146  0.558119  0.441881  \n",
            "1            0.493421        0.116343  0.399584  0.600416  0.680055  0.319945  \n",
            "2            0.404006        0.185163  0.393620  0.606380  0.460979  0.539021  \n",
            "\n",
            "[3 rows x 22 columns]\n"
          ]
        }
      ]
    }
  ]
}